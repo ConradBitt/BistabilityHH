{
 "cells": [
  {
   "cell_type": "code",
   "execution_count": 1,
   "metadata": {
    "colab": {
     "base_uri": "https://localhost:8080/"
    },
    "id": "V0cRyhp8YWl2",
    "outputId": "dde393d7-fe11-4830-df43-e8d84a75cd36"
   },
   "outputs": [],
   "source": [
    "# !pip install neuron\n",
    "# !pip install netpyne\n",
    "import matplotlib"
   ]
  },
  {
   "cell_type": "code",
   "execution_count": 2,
   "metadata": {
    "colab": {
     "base_uri": "https://localhost:8080/"
    },
    "id": "QzblvwEt9Ovm",
    "outputId": "eafc3dc2-f2cf-488b-820c-9b32e76c2a8d"
   },
   "outputs": [],
   "source": [
    "# rm -r netpyne-course-2021"
   ]
  },
  {
   "cell_type": "code",
   "execution_count": 3,
   "metadata": {
    "colab": {
     "base_uri": "https://localhost:8080/"
    },
    "id": "2RjvKVYDyuXM",
    "outputId": "57a63ce4-bca7-43f9-90e2-c6dd8b8a734f"
   },
   "outputs": [],
   "source": [
    "# !git clone https://github.com/suny-downstate-medical-center/netpyne-course-2021.git\n",
    "# !cd netpyne-course-2021"
   ]
  },
  {
   "cell_type": "code",
   "execution_count": 4,
   "metadata": {
    "colab": {
     "base_uri": "https://localhost:8080/"
    },
    "id": "HAYqWzwz8IBy",
    "outputId": "28668f1b-c7ac-4056-eac4-d4a0de20fe15"
   },
   "outputs": [
    {
     "name": "stdout",
     "output_type": "stream",
     "text": [
      "/home/fernando/Dropbox/Biestabilidade-HH/BistabilityHH/izhi\n",
      "Mod files: \"./izhi2003a.mod\" \"./izhi2003b.mod\"\n",
      "\n",
      "COBJS=''\n",
      " -> \u001b[32mCompiling\u001b[0m mod_func.c\n",
      "gcc -O2   -I.   -I/home/fernando/anaconda3/envs/netpynedev/lib/python3.7/site-packages/neuron/.data/include  -I/nrnwheel/openmpi/include -fPIC -c mod_func.c -o mod_func.o\n",
      " => \u001b[32mLINKING\u001b[0m shared library ./libnrnmech.so\n",
      "g++ -O2 -DVERSION_INFO='8.0.0' -std=c++11 -shared -fPIC  -I /home/fernando/anaconda3/envs/netpynedev/lib/python3.7/site-packages/neuron/.data/include -o ./libnrnmech.so -Wl,-soname,libnrnmech.so \\\n",
      "  ./mod_func.o ./izhi2003a.o ./izhi2003b.o  -L/home/fernando/anaconda3/envs/netpynedev/lib/python3.7/site-packages/neuron/.data/lib -lnrniv -Wl,-rpath,/home/fernando/anaconda3/envs/netpynedev/lib/python3.7/site-packages/neuron/.data/lib   \n",
      "rm -f ./.libs/libnrnmech.so ; mkdir -p ./.libs ; cp ./libnrnmech.so ./.libs/libnrnmech.so\n",
      "Successfully created x86_64/special\n"
     ]
    }
   ],
   "source": [
    "!nrnivmodl ."
   ]
  },
  {
   "cell_type": "code",
   "execution_count": 11,
   "metadata": {
    "colab": {
     "base_uri": "https://localhost:8080/",
     "height": 1000
    },
    "id": "f0P--qg5YUT6",
    "outputId": "820abefe-2cea-43b5-bcd1-60d042e8cdc0",
    "scrolled": false
   },
   "outputs": [
    {
     "name": "stdout",
     "output_type": "stream",
     "text": [
      "\n",
      "Start time:  2021-08-09 16:29:27.494752\n",
      "\n",
      "Creating network of 1 cell populations on 1 hosts...\n",
      "  Number of cells on node 0: 5 \n",
      "  Done; cell creation time = 0.00 s.\n",
      "Making connections...\n",
      "  Number of connections on node 0: 13 \n",
      "  Done; cell connection time = 0.00 s.\n",
      "Adding stims...\n",
      "  Number of stims on node 0: 5 \n",
      "  Done; cell stims creation time = 0.00 s.\n",
      "Recording 0 traces of 0 types on node 0\n",
      "\n",
      "Running simulation for 200.0 ms...\n",
      "  Done; run time = 0.09 s; real-time ratio: 2.18.\n",
      "\n",
      "Gathering data...\n",
      "  Done; gather time = 0.00 s.\n",
      "\n",
      "Analyzing...\n",
      "  Cells: 5\n",
      "  Connections: 18 (3.60 per cell)\n",
      "  Spikes: 55 (55.00 Hz)\n",
      "  Simulated time: 0.2 s; 1 workers\n",
      "  Run time: 0.09 s\n",
      "  Done; saving time = 0.01 s.\n",
      "Plotting raster...\n"
     ]
    },
    {
     "data": {
      "image/png": "[encoded data removed]",
      "text/plain": [
       "<Figure size 720x576 with 1 Axes>"
      ]
     },
     "metadata": {
      "needs_background": "light"
     },
     "output_type": "display_data"
    },
    {
     "name": "stdout",
     "output_type": "stream",
     "text": [
      "  Done; plotting time = 0.21 s\n",
      "\n",
      "Total time = 0.31 s\n",
      "\n",
      "End time:  2021-08-09 16:29:27.807909\n"
     ]
    }
   ],
   "source": [
    "from netpyne import specs, sim\n",
    "%matplotlib inline\n",
    "\n",
    "# Network parameters\n",
    "netParams = specs.NetParams()  # object of class NetParams to store the network parameters\n",
    "\n",
    "## Population parameters\n",
    "netParams.popParams['Izhi03a_pop'] = {'cellType': 'PYR', 'numCells': 5, 'cellModel': 'Izh2003a'}\n",
    "\n",
    "### Izhi2003a (independent voltage)\n",
    "cellRule = netParams.importCellParams(\n",
    "    label='PYR_Izhi03a_rule', \n",
    "    conds={'cellType': 'PYR', 'cellModel':'Izh2003a'},\n",
    "    fileName='izhi2003Wrapper.py', \n",
    "    cellName='IzhiCell',\n",
    "    cellArgs={'type':'tonic spiking', 'host':'dummy'},\n",
    "    )\n",
    "netParams.renameCellParamsSec('PYR_Izhi03a_rule', 'sec', 'soma')  # rename imported section 'sec' to 'soma'\n",
    "cellRule['secs']['soma']['pointps']['Izhi2003a_0']['vref'] = 'V' # specify that uses its own voltage V\n",
    "\n",
    "## Synaptic mechanism parameters\n",
    "netParams.synMechParams['AMPA'] = {'mod': 'Exp2Syn', 'tau1': 1.0, 'tau2': 2.0, 'e': 0}  # soma synapse\n",
    "\n",
    "\n",
    "# Stimulation parameters\n",
    "netParams.stimSourceParams['bkg'] = {'type': 'NetStim', 'rate': 20, 'noise': 0.0}\n",
    "netParams.stimTargetParams['bg1'] = {'source': 'bkg', 'conds': {'cellType': 'PYR', 'cellModel': ['Izh2003a']}, 'weight': 5, 'delay': 5, 'sec': 'soma'}\n",
    "\n",
    "\n",
    "## Connectivity params\n",
    "netParams.connParams['recurrent'] = {\n",
    "    'preConds': {'cellType': 'PYR'}, \n",
    "    'postConds': {'cellType': 'PYR'},  #  PYR -> PYR random\n",
    "    'connFunc': 'convConn',           # connectivity function (random)\n",
    "    'convergence': 'uniform(0,10)',   # max number of incoming conns to cell\n",
    "    'weight': 0.001,                  # synaptic weight\n",
    "    'delay': 5,                       # transmission delay (ms)\n",
    "    'sec': 'soma'}                    # section to connect to\n",
    "\n",
    "# Simulation options\n",
    "simConfig = specs.SimConfig()       # object of class SimConfig to store simulation configuration\n",
    "simConfig.duration = 2*1e2          # Duration of the simulation, in ms\n",
    "simConfig.dt = 0.005                # Internal integration timestep to use\n",
    "simConfig.verbose = False           # Show detailed messages\n",
    "simConfig.recordTraces = {'V_soma': {'sec': 'soma', 'loc': 0.5, 'var': 'v'}}\n",
    "simConfig.recordStep = 0.005        # Step size in ms to save data (eg. V traces, LFP, etc)\n",
    "simConfig.filename = 'model_output' # Set file output name\n",
    "simConfig.savePickle = False        # Save params, network and sim output to pickle file\n",
    "simConfig.analysis['plotRaster'] = {'orderInverse': True, 'saveFig': 'tut_import_raster.png'}           \n",
    "# simConfig.analysis['plotTraces'] = {'include': ['Izhi03a_pop']}            \n",
    "\n",
    "\n",
    "# Create network and run simulation\n",
    "sim.createSimulateAnalyze(netParams = netParams, simConfig = simConfig)\n"
   ]
  },
  {
   "cell_type": "code",
   "execution_count": null,
   "metadata": {
    "id": "G1Z-Kd9jZ6lp"
   },
   "outputs": [],
   "source": [
    "# !rm -r x86_64"
   ]
  },
  {
   "cell_type": "code",
   "execution_count": null,
   "metadata": {
    "colab": {
     "base_uri": "https://localhost:8080/"
    },
    "id": "jO383eObFFaD",
    "outputId": "83d5bd66-7222-4ffa-9ff5-0c69a8d5b5c5",
    "scrolled": true
   },
   "outputs": [],
   "source": [
    "sim.net.cells[0].tags"
   ]
  },
  {
   "cell_type": "code",
   "execution_count": 10,
   "metadata": {},
   "outputs": [
    {
     "data": {
      "text/plain": [
       "'V'"
      ]
     },
     "execution_count": 10,
     "metadata": {},
     "output_type": "execute_result"
    }
   ],
   "source": [
    "cellRule['secs']['soma']['pointps']['Izhi2003a_0']['vref']"
   ]
  },
  {
   "cell_type": "code",
   "execution_count": 9,
   "metadata": {},
   "outputs": [
    {
     "data": {
      "text/plain": [
       "'V'"
      ]
     },
     "execution_count": 9,
     "metadata": {},
     "output_type": "execute_result"
    }
   ],
   "source": [
    "netParams.cellParams['PYR_Izhi03a_rule']['secs']['soma']['pointps']['Izhi2003a_0']['vref']"
   ]
  }
 ],
 "metadata": {
  "colab": {
   "collapsed_sections": [],
   "name": "Cópia de tut_netpyne_import.ipynb",
   "provenance": []
  },
  "kernelspec": {
   "display_name": "Python 3",
   "language": "python",
   "name": "python3"
  },
  "language_info": {
   "codemirror_mode": {
    "name": "ipython",
    "version": 3
   },
   "file_extension": ".py",
   "mimetype": "text/x-python",
   "name": "python",
   "nbconvert_exporter": "python",
   "pygments_lexer": "ipython3",
   "version": "3.7.9"
  }
 },
 "nbformat": 4,
 "nbformat_minor": 1
}
