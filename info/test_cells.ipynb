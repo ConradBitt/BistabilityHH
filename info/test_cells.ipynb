{
 "cells": [
  {
   "cell_type": "code",
   "execution_count": 1,
   "metadata": {},
   "outputs": [],
   "source": [
    "%matplotlib inline\n",
    "import matplotlib.pyplot as pyplot\n",
    "import os\n",
    "import zipfile # Extract zip files\n",
    "import urllib # Download files from the web\n",
    "import neurom # Analyse / view morphologies\n",
    "import neurom.viewer"
   ]
  },
  {
   "cell_type": "code",
   "execution_count": 2,
   "metadata": {},
   "outputs": [],
   "source": [
    "# urllib.urlretrieve('https://senselab.med.yale.edu/modeldb/eavBinDown.cshtml?o=123623&a=23&mime=application/zip','PospischilEtAl2008.zip');"
   ]
  },
  {
   "cell_type": "code",
   "execution_count": 3,
   "metadata": {},
   "outputs": [],
   "source": [
    "# import os, zipfile\n",
    "# with zipfile.ZipFile('PospischilEtAl2008.zip', 'r') as zip_file:\n",
    "#     zip_file.extractall('.')"
   ]
  },
  {
   "cell_type": "code",
   "execution_count": 4,
   "metadata": {},
   "outputs": [],
   "source": [
    "# os.chdir('PospischilEtAl2008')"
   ]
  },
  {
   "cell_type": "code",
   "execution_count": 5,
   "metadata": {},
   "outputs": [],
   "source": [
    "# !nrnivmodl"
   ]
  },
  {
   "cell_type": "code",
   "execution_count": 6,
   "metadata": {},
   "outputs": [
    {
     "name": "stdout",
     "output_type": "stream",
     "text": [
      "cadecay_destexhe.mod  IM_cortex.mod     my_exp2syn.mod\r\n",
      "HH_traub.mod          IT_huguenard.mod  test_cells.ipynb\r\n",
      "IL_gutnick.mod        kca.mod           \u001b[0m\u001b[01;34mx86_64\u001b[0m/\r\n"
     ]
    }
   ],
   "source": [
    "ls"
   ]
  },
  {
   "cell_type": "code",
   "execution_count": 7,
   "metadata": {},
   "outputs": [],
   "source": [
    "import neuron as nrn # NEURON simulator"
   ]
  },
  {
   "cell_type": "code",
   "execution_count": 8,
   "metadata": {},
   "outputs": [
    {
     "name": "stdout",
     "output_type": "stream",
     "text": [
      "<TopLevelHocInterpreter>\n"
     ]
    }
   ],
   "source": [
    "print (nrn.h)\n",
    "# Load external files\n",
    "nrn.h.load_file(\"stdrun.hoc\");"
   ]
  },
  {
   "cell_type": "code",
   "execution_count": 9,
   "metadata": {},
   "outputs": [],
   "source": [
    "# nrn.h.load_file(\"mosinit.hoc\");"
   ]
  },
  {
   "cell_type": "code",
   "execution_count": 10,
   "metadata": {},
   "outputs": [],
   "source": [
    "# nrn.h.load_file(\"demo_PY_IBR.hoc\");"
   ]
  },
  {
   "cell_type": "code",
   "execution_count": 11,
   "metadata": {},
   "outputs": [
    {
     "name": "stdout",
     "output_type": "stream",
     "text": [
      "Soma object: soma\n",
      "Soma object name:  soma\n",
      "Number of segments in the soma: 1\n",
      "96.0\n",
      "96.0\n",
      "1.0\n",
      "100.0\n"
     ]
    }
   ],
   "source": [
    "soma = nrn.h.Section(name='soma')\n",
    "\n",
    "print (\"Soma object:\", soma)\n",
    "print (\"Soma object name: \", soma.name())\n",
    "\n",
    "soma.nseg = 1 #\n",
    "soma.diam = 96 #\n",
    "soma.L = 96 #\t\t\t// so that area is about 29000 um2\n",
    "soma.cm = 1 #\n",
    "soma.Ra = 100 #\t\t// geometry \n",
    "\n",
    "print (\"Number of segments in the soma:\", soma.nseg)\n",
    "print (soma.diam)\n",
    "print (soma.L)\n",
    "print (soma.cm)\n",
    "print (soma.Ra)"
   ]
  },
  {
   "cell_type": "code",
   "execution_count": 12,
   "metadata": {},
   "outputs": [
    {
     "name": "stdout",
     "output_type": "stream",
     "text": [
      "Simulation stop time: 3000.000000 ms\n",
      "Integration time step: 0.010000 ms\n"
     ]
    }
   ],
   "source": [
    "nrn.h.tstop = 3000\n",
    "nrn.h.dt = 0.01\n",
    "print (\"Simulation stop time: %f ms\" % nrn.h.tstop)\n",
    "print (\"Integration time step: %f ms\" % nrn.h.dt)\n",
    "\n",
    "time = nrn.h.Vector()\n",
    "voltage = nrn.h.Vector()\n",
    "\n",
    "time.record(nrn.h._ref_t)\n",
    "voltage.record(soma(.5)._ref_v);\n",
    "\n",
    "iclamp = nrn.h.IClamp(.5, sec=soma)\n",
    "iclamp.amp = 0.15 # nA\n",
    "iclamp.delay = 500 # ms\n",
    "iclamp.dur = 2000 # ms"
   ]
  },
  {
   "cell_type": "code",
   "execution_count": 13,
   "metadata": {},
   "outputs": [],
   "source": [
    "soma.insert('pas');\n",
    "soma.e_pas = -85\n",
    "soma.g_pas = 1e-5 #\t\t// idem TC cell"
   ]
  },
  {
   "cell_type": "code",
   "execution_count": 14,
   "metadata": {},
   "outputs": [],
   "source": [
    "soma.insert('hh2'); #\t\t// Hodgin-Huxley INa and IK \n",
    "soma.ek = -100 #\t\t// potassium reversal potential \n",
    "soma.ena = 50 #\t\t\t// sodium reversal potential \n",
    "soma.vtraub_hh2 = -55 #\t// Resting Vm, BJ was -55\n",
    "soma.gnabar_hh2 = 0.05 #\t// McCormick=15 muS, thal was 0.09\n",
    "soma.gkbar_hh2 = 0.005 #\t// spike duration of pyr cells\n",
    "celsius = 36\n",
    "v_init = -84"
   ]
  },
  {
   "cell_type": "code",
   "execution_count": 15,
   "metadata": {},
   "outputs": [],
   "source": [
    "soma.insert('im'); #\t\t// M current \n",
    "taumax_im = 1000\n",
    "soma.gkbar_im = 3e-5 #\t\t// specific to LTS pyr cell"
   ]
  },
  {
   "cell_type": "code",
   "execution_count": 16,
   "metadata": {},
   "outputs": [],
   "source": [
    "soma.insert('cad');  #\t\t// calcium decay\n",
    "soma.depth_cad = 1 #\t\t// McCormick= 0.1 um\n",
    "soma.taur_cad = 5 #\t\t// McCormick=1 ms !!!\n",
    "soma.cainf_cad = 2.4e-4 #\t// McCormick=0\n",
    "soma.kt_cad = 0 #\t\t// no pump"
   ]
  },
  {
   "cell_type": "code",
   "execution_count": 17,
   "metadata": {},
   "outputs": [],
   "source": [
    "soma.insert('ical'); #// IL current (Reuveni et al. model, Nernst)\n",
    "soma.cai = 2.4e-4 \n",
    "soma.cao = 2 \n",
    "#soma.eca = 120 \n",
    "soma.gcabar_ical = 2.2e-4"
   ]
  },
  {
   "cell_type": "code",
   "execution_count": 18,
   "metadata": {},
   "outputs": [],
   "source": [
    "soma.insert('it'); #// IT current \n",
    "soma.cai = 2.4e-4 \n",
    "soma.cao = 2 \n",
    "#eca = 120 \n",
    "soma.gcabar_it = 0.0004 #// specific to LTS pyr cell"
   ]
  },
  {
   "cell_type": "code",
   "execution_count": 19,
   "metadata": {},
   "outputs": [],
   "source": [
    "nrn.h.tstop = 3000\n",
    "nrn.h.dt = 0.01\n",
    "iclamp = nrn.h.IClamp(.5, sec=soma)\n",
    "iclamp.amp = 0.15 # nA\n",
    "iclamp.delay = 500 # ms\n",
    "iclamp.dur = 2000 # ms"
   ]
  },
  {
   "cell_type": "code",
   "execution_count": 20,
   "metadata": {},
   "outputs": [],
   "source": [
    "soma.depth_cad = 1 #\t\t// McCormick= 0.1 um"
   ]
  },
  {
   "cell_type": "code",
   "execution_count": 21,
   "metadata": {
    "scrolled": true
   },
   "outputs": [
    {
     "name": "stdout",
     "output_type": "stream",
     "text": [
      "Changed dt\n"
     ]
    },
    {
     "data": {
      "image/png": "[encoded data removed]",
      "text/plain": [
       "<Figure size 432x288 with 1 Axes>"
      ]
     },
     "metadata": {
      "needs_background": "light"
     },
     "output_type": "display_data"
    }
   ],
   "source": [
    "time = nrn.h.Vector()\n",
    "voltage = nrn.h.Vector()\n",
    "#mthh2 = nrn.h.Vector()\n",
    "#hthh2 = nrn.h.Vector()\n",
    "#nthh2 = nrn.h.Vector()\n",
    "#mtim = nrn.h.Vector()\n",
    "#mtical = nrn.h.Vector()\n",
    "#htical = nrn.h.Vector()\n",
    "#caitcad = nrn.h.Vector()\n",
    "#icatcad = nrn.h.Vector()\n",
    "#ecatcad = nrn.h.Vector()\n",
    "stim_current = nrn.h.Vector()\n",
    "\n",
    "\n",
    "stim_current.record(iclamp._ref_i)\n",
    "time.record(nrn.h._ref_t)\n",
    "voltage.record(soma(.5)._ref_v);\n",
    "#mthh2.record(soma(.5)._ref_m_hh2);\n",
    "#hthh2.record(soma(.5)._ref_h_hh2);\n",
    "#nthh2.record(soma(.5)._ref_n_hh2);\n",
    "#mtim.record(soma(.5)._ref_m_im);\n",
    "#mtical.record(soma(.5)._ref_m_ical);\n",
    "#htical.record(soma(.5)._ref_h_ical);\n",
    "#caitcad.record(soma(.5)._ref_cai);\n",
    "#icatcad.record(soma(.5)._ref_ica);\n",
    "#ecatcad.record(soma(.5)._ref_eca);\n",
    "\n",
    "nrn.h.run()\n",
    "\n",
    "def plot_tv(time_array, voltage_array, show=True, label=None, ylabel='Membrane voltage (mV)', xyaxis=[2690, 3000, -85, 50] , constants=[]):\n",
    "    import matplotlib.pyplot as plt\n",
    "    import numpy\n",
    "    plt.plot(time_array, voltage_array, label=label)\n",
    "    for constant in constants:\n",
    "        plt.plot(time_array, constant*numpy.ones(len(time_array)))\n",
    "    plt.xlabel('Time (ms)')\n",
    "    plt.ylabel(ylabel)\n",
    "    plt.axis(xyaxis)\n",
    "    if show:\n",
    "        plt.show()\n",
    "\n",
    "xinitial = 0\n",
    "xfinal = 3000\n",
    "plot_tv(time, voltage, ylabel='Membrane voltage (mV)', xyaxis=[xinitial, xfinal, -90, 50])\n",
    "#plot_tv(time, mthh2, ylabel='m_hh2', xyaxis=[xinitial, xfinal, 0, 1])\n",
    "#plot_tv(time, hthh2, ylabel='h_hh2', xyaxis=[xinitial, xfinal, 0, 1])\n",
    "#plot_tv(time, nthh2, ylabel='n_hh2', xyaxis=[xinitial, xfinal, 0, 1])\n",
    "#plot_tv(time, mtim, ylabel='m_im', xyaxis=[xinitial, xfinal, 0, 1])\n",
    "#plot_tv(time, mtical, ylabel='m_ical', xyaxis=[xinitial, xfinal, 0, 1])\n",
    "#plot_tv(time, htical, ylabel='h_ical', xyaxis=[xinitial, xfinal, 0.6, 0.8])\n",
    "#plot_tv(time, caitcad, ylabel='cai_cad', xyaxis=[xinitial, xfinal, 0.0002, 0.004])\n",
    "#plot_tv(time, icatcad, ylabel='ica', xyaxis=[xinitial, xfinal, -0.02, 0.0001])\n",
    "#plot_tv(time, ecatcad, ylabel='Eca', xyaxis=[xinitial, xfinal, 80, 125.0])\n"
   ]
  },
  {
   "cell_type": "code",
   "execution_count": 24,
   "metadata": {
    "scrolled": true
   },
   "outputs": [
    {
     "data": {
      "image/png": "[encoded data removed]",
      "text/plain": [
       "<Figure size 432x288 with 1 Axes>"
      ]
     },
     "metadata": {
      "needs_background": "light"
     },
     "output_type": "display_data"
    }
   ],
   "source": [
    "plot_tv(time, voltage, ylabel='Membrane voltage (mV)', xyaxis=[0, 3000, -100, 60])"
   ]
  },
  {
   "cell_type": "code",
   "execution_count": 25,
   "metadata": {},
   "outputs": [
    {
     "name": "stdout",
     "output_type": "stream",
     "text": [
      "108.68161125672772\n",
      "-5.466252094084259e-07\n",
      "0.00024013968733497444\n",
      "-91.81288395367241\n",
      "5.517842452981333e-08\n",
      "0.7762828991810017\n"
     ]
    }
   ],
   "source": [
    "print (soma.eca)\n",
    "print (soma.ica)\n",
    "print (soma.cai)\n",
    "print (soma.v)\n",
    "print (soma.m_ical)\n",
    "print (soma.h_ical)"
   ]
  },
  {
   "cell_type": "code",
   "execution_count": 27,
   "metadata": {},
   "outputs": [],
   "source": [
    "import matplotlib.pyplot as plt\n",
    "import numpy as np\n",
    "plt.ion()"
   ]
  },
  {
   "cell_type": "code",
   "execution_count": 28,
   "metadata": {},
   "outputs": [
    {
     "data": {
      "image/png": "[encoded data removed]",
      "text/plain": [
       "<Figure size 720x216 with 2 Axes>"
      ]
     },
     "metadata": {
      "needs_background": "light"
     },
     "output_type": "display_data"
    }
   ],
   "source": [
    "f, (ax0, ax1) = plt.subplots(2,1, figsize=(10,3), gridspec_kw = {'height_ratios':[3, 1]})\n",
    "ax0.plot(time,voltage, 'k')\n",
    "ax1.plot(time,stim_current, 'gray')\n",
    "\n",
    "ax0.set_ylabel('Voltage (mV)')\n",
    "ax0.spines['right'].set_visible(False)\n",
    "ax0.spines['top'].set_visible(False)\n",
    "ax0.spines['bottom'].set_visible(False)\n",
    "ax0.get_xaxis().set_visible(False)\n",
    "\n",
    "\n",
    "ax1.plot([0,0],[0,0.15],'k')\n",
    "ax1.text(20,0.125,'150pA',va='center')\n",
    "ax1.set_ylabel('I (nA)')\n",
    "ax1.set_xlabel('t (ms)')\n",
    "ax1.spines['right'].set_visible(False)\n",
    "ax1.spines['top'].set_visible(False)\n",
    "ax1.spines['left'].set_visible(False)\n",
    "ax1.get_yaxis().set_visible(False)\n",
    "plt.tight_layout()"
   ]
  },
  {
   "cell_type": "code",
   "execution_count": null,
   "metadata": {},
   "outputs": [],
   "source": []
  },
  {
   "cell_type": "code",
   "execution_count": null,
   "metadata": {},
   "outputs": [],
   "source": []
  }
 ],
 "metadata": {
  "kernelspec": {
   "display_name": "Python 3",
   "language": "python",
   "name": "python3"
  },
  "language_info": {
   "codemirror_mode": {
    "name": "ipython",
    "version": 3
   },
   "file_extension": ".py",
   "mimetype": "text/x-python",
   "name": "python",
   "nbconvert_exporter": "python",
   "pygments_lexer": "ipython3",
   "version": "3.7.9"
  }
 },
 "nbformat": 4,
 "nbformat_minor": 1
}
